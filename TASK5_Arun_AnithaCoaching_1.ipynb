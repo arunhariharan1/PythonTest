{
 "cells": [
  {
   "cell_type": "markdown",
   "id": "d7734615",
   "metadata": {},
   "source": [
    "Task 5.1\n",
    "Write a shift() function that has the parameter char passed to it. The function must shift a\n",
    "lower-case letter down the alphabet sequence by one position (a → b ... → y → z → a) and do\n",
    "nothing to other characters"
   ]
  },
  {
   "cell_type": "code",
   "execution_count": 2,
   "id": "1d5971e3",
   "metadata": {},
   "outputs": [],
   "source": [
    "def shift(char):\n",
    "    if 'a' <= char <= 'z':\n",
    "        # Shift the character by 1, wrap around using modulo\n",
    "        positionOfChar = ord(char) - ord('a')\n",
    "        #print(f\"{char} positionOfChar:  {positionOfChar}\")\n",
    "        shiftedPositionOfChar =  (positionOfChar + 1) % 26\n",
    "        #print(f\"{char} shiftedPositionOfChar:  {shiftedPositionOfChar}\")\n",
    "        return chr(shiftedPositionOfChar + ord('a'))\n",
    "    else:\n",
    "        return char"
   ]
  },
  {
   "cell_type": "code",
   "execution_count": 3,
   "id": "be833821",
   "metadata": {},
   "outputs": [
    {
     "name": "stdout",
     "output_type": "stream",
     "text": [
      "b\n",
      "a\n",
      "1\n"
     ]
    }
   ],
   "source": [
    "print(shift('a')) \n",
    "print(shift('z')) \n",
    "print(shift('1')) "
   ]
  },
  {
   "cell_type": "markdown",
   "id": "da732eda",
   "metadata": {},
   "source": [
    "Task 5.2\n",
    "Write a function encrypt() that has the parameters message and positions passed to it.\n",
    "The function must use the shift() function to encrypt the message argument by shifting all the\n",
    "lower-case letters in the message down the alphabet sequence by the number of positions given\n",
    "in the positions argument. The function should ignore all other characters"
   ]
  },
  {
   "cell_type": "code",
   "execution_count": 4,
   "id": "02686953",
   "metadata": {},
   "outputs": [],
   "source": [
    "def encrypt(message, positions):\n",
    "    encrypted = ''\n",
    "    for char in message:\n",
    "        new_char = char\n",
    "        for _ in range(positions):\n",
    "            new_char = shift(new_char)\n",
    "        encrypted += new_char\n",
    "    return encrypted"
   ]
  },
  {
   "cell_type": "code",
   "execution_count": 5,
   "id": "6e87099e",
   "metadata": {},
   "outputs": [
    {
     "name": "stdout",
     "output_type": "stream",
     "text": [
      "bcd\n",
      "cde\n"
     ]
    }
   ],
   "source": [
    "print(encrypt(\"abc\", 1))\n",
    "print(encrypt(\"abc\", 2))"
   ]
  },
  {
   "cell_type": "markdown",
   "id": "9c8f0a38",
   "metadata": {},
   "source": [
    "Task 5.3\n",
    "Write a function shift_up() that has the parameter char passed to it. The function must shift\n",
    "a lower-case letter up the alphabet sequence by one position (a ← b ... ← y ← z ← a) and do\n",
    "nothing to other characters."
   ]
  },
  {
   "cell_type": "code",
   "execution_count": 6,
   "id": "5384b4b1",
   "metadata": {},
   "outputs": [],
   "source": [
    "def shift_up(char):\n",
    "    if 'a' <= char <= 'z':\n",
    "        # Shift the character by 1, wrap around using modulo\n",
    "        positionOfChar = ord(char) - ord('a')\n",
    "        #print(f\"{char} positionOfChar:  {positionOfChar}\")\n",
    "        shiftedPositionOfChar =  (positionOfChar - 1) % 26\n",
    "        #print(f\"{char} shiftedPositionOfChar:  {shiftedPositionOfChar}\")\n",
    "        return chr(shiftedPositionOfChar + ord('a'))\n",
    "    else:\n",
    "        return char"
   ]
  },
  {
   "cell_type": "code",
   "execution_count": 7,
   "id": "fa6735f4",
   "metadata": {},
   "outputs": [
    {
     "name": "stdout",
     "output_type": "stream",
     "text": [
      "z\n",
      "y\n",
      "1\n"
     ]
    }
   ],
   "source": [
    "print(shift_up('a')) \n",
    "print(shift_up('z')) \n",
    "print(shift_up('1')) "
   ]
  },
  {
   "cell_type": "markdown",
   "id": "fd4e0d00",
   "metadata": {},
   "source": [
    "Task 5.4\n",
    "Write a function decrypt() that has the parameters ciphertext and positions passed to it.\n",
    "The function must use the shift_up() function to decrypt the ciphertext argument by shifting\n",
    "all the letters up the alphabet sequence by the number of positions given in the positions\n",
    "argument. The function should ignore all other characters."
   ]
  },
  {
   "cell_type": "code",
   "execution_count": 8,
   "id": "9790a433",
   "metadata": {},
   "outputs": [],
   "source": [
    "def decrypt(ciphertext, positions):\n",
    "    decrypted = ''\n",
    "    for char in ciphertext:\n",
    "        new_char = char\n",
    "        for loop in range(positions):\n",
    "            new_char = shift_up(new_char)\n",
    "        decrypted += new_char\n",
    "    return decrypted"
   ]
  },
  {
   "cell_type": "code",
   "execution_count": 9,
   "id": "6e6b9ac3",
   "metadata": {},
   "outputs": [
    {
     "name": "stdout",
     "output_type": "stream",
     "text": [
      "abc\n",
      "abc\n"
     ]
    }
   ],
   "source": [
    "print(decrypt(\"bcd\", 1))\n",
    "print(decrypt(\"cde\", 2))"
   ]
  },
  {
   "cell_type": "markdown",
   "id": "9d1456b1",
   "metadata": {},
   "source": [
    "Create a simple text-based user interface to:\n",
    "• request the user to enter ‘E’ to encrypt a message or ‘D’ to decrypt a ciphertext (case\n",
    "insensitive) and to re-enter if the input is not ‘E’, ‘D’, ‘e’ or ‘d’\n",
    "• request the user to enter the message or the ciphertext\n",
    "• request the user to enter the number of positions to shift the letters and the user to re-enter\n",
    "the number if the input is not a positive integer\n",
    "• output the encrypted message and write the encrypted message to the file encrypted.txt,\n",
    "if the user requested to encrypt a message\n",
    "• output the decrypted ciphertext if the user requested to decrypt a message.\n",
    "Your program should use the encrypt() and decrypt() functions.\n",
    "\n",
    "a, E, This is the seCret me55age!, −1, 12"
   ]
  },
  {
   "cell_type": "code",
   "execution_count": 10,
   "id": "b50eb01a",
   "metadata": {},
   "outputs": [
    {
     "name": "stdout",
     "output_type": "stream",
     "text": [
      "Encrypted message: Ttue ue ftq eqCdqf yq55msq!\n",
      "Encrypted message saved to encrypted.txt\n"
     ]
    }
   ],
   "source": [
    "def main():\n",
    "    # Ask for operation\n",
    "    while True:\n",
    "        choice = input(\"Enter 'E' to encrypt or 'D' to decrypt: \").strip().lower()\n",
    "        if choice in ['e', 'd']:\n",
    "            break\n",
    "        print(\"Invalid choice. Please enter 'E' or 'D'.\")\n",
    "\n",
    "    # Ask for message/ciphertext\n",
    "    text = input(\"Enter your message: \")\n",
    "\n",
    "    # Ask for shift positions\n",
    "    while True:\n",
    "        try:\n",
    "            positions = int(input(\"Enter number of positions to shift: \"))\n",
    "            if positions > 0:\n",
    "                break\n",
    "            else:\n",
    "                print(\"Please enter a positive integer.\")\n",
    "        except ValueError:\n",
    "            print(\"Invalid input. Please enter a positive integer.\")\n",
    "\n",
    "    # Encrypt or Decrypt\n",
    "    if choice == 'e':\n",
    "        encrypted_text = encrypt(text, positions)\n",
    "        print(\"Encrypted message:\", encrypted_text)\n",
    "\n",
    "        # Write to file\n",
    "        with open(\"encrypted.txt\", \"w\") as f:\n",
    "            f.write(encrypted_text)\n",
    "        print(\"Encrypted message saved to encrypted.txt\")\n",
    "\n",
    "    else:  # choice == 'd'\n",
    "        decrypted_text = decrypt(text, positions)\n",
    "        print(\"Decrypted message:\", decrypted_text)\n",
    "\n",
    "\n",
    "if __name__ == \"__main__\":\n",
    "    main()"
   ]
  }
 ],
 "metadata": {
  "kernelspec": {
   "display_name": "Python 3",
   "language": "python",
   "name": "python3"
  },
  "language_info": {
   "codemirror_mode": {
    "name": "ipython",
    "version": 3
   },
   "file_extension": ".py",
   "mimetype": "text/x-python",
   "name": "python",
   "nbconvert_exporter": "python",
   "pygments_lexer": "ipython3",
   "version": "3.11.9"
  }
 },
 "nbformat": 4,
 "nbformat_minor": 5
}
